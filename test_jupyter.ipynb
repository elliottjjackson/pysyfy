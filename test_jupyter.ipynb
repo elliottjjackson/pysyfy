{
 "metadata": {
  "language_info": {
   "codemirror_mode": {
    "name": "ipython",
    "version": 3
   },
   "file_extension": ".py",
   "mimetype": "text/x-python",
   "name": "python",
   "nbconvert_exporter": "python",
   "pygments_lexer": "ipython3",
   "version": "3.8.6"
  },
  "orig_nbformat": 4,
  "kernelspec": {
   "name": "python3",
   "display_name": "Python 3.8.6 64-bit"
  },
  "interpreter": {
   "hash": "596c5f2053b2802d085b29ef1a0c8194c2c5726fc7332aef47fa8b412149a926"
  }
 },
 "nbformat": 4,
 "nbformat_minor": 2,
 "cells": [
  {
   "cell_type": "code",
   "execution_count": null,
   "metadata": {},
   "outputs": [],
   "source": [
    "import pandas as pd\n",
    "import numpy as np\n",
    "import os\n",
    "\n",
    "ui_path = os.path.dirname(os.path.abspath(__file__))\n",
    "test_dataset_location = os.path.join(ui_path, \"test_dataset/user_input_datasheet.csv\")\n",
    "\n",
    "\n",
    "def import_cvs(loc):\n",
    "    df = pd.read_csv(loc)\n",
    "\n",
    "import_cvs(test_dataset_location)"
   ]
  },
  {
   "cell_type": "code",
   "execution_count": null,
   "metadata": {},
   "outputs": [],
   "source": []
  }
 ]
}